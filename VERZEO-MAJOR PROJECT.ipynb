{
 "cells": [
  {
   "cell_type": "markdown",
   "metadata": {},
   "source": [
    "# USING FACE DETECTION-MAJOR PROJECT"
   ]
  },
  {
   "cell_type": "code",
   "execution_count": 1,
   "metadata": {},
   "outputs": [],
   "source": [
    "# pip install numpy\n",
    "# to install numpy package\n",
    "import numpy as np"
   ]
  },
  {
   "cell_type": "code",
   "execution_count": 2,
   "metadata": {},
   "outputs": [],
   "source": [
    "# The OS module in python provides functions for interacting with the operating system.\n",
    "import os"
   ]
  },
  {
   "cell_type": "code",
   "execution_count": 3,
   "metadata": {},
   "outputs": [],
   "source": [
    "#pip install opencv-python"
   ]
  },
  {
   "cell_type": "code",
   "execution_count": 4,
   "metadata": {},
   "outputs": [],
   "source": [
    "# pip install opencv-python\n",
    "# Importing opencv package\n",
    "import cv2"
   ]
  },
  {
   "cell_type": "code",
   "execution_count": 5,
   "metadata": {},
   "outputs": [],
   "source": [
    "# path where haarcascade_frontalface_default.xml file is located in opencv folder which is already downloaded\n",
    "face_cascade = cv2.CascadeClassifier(\n",
    "    \"C:\\\\Users\\\\Yashaswini Reddy\\\\Documents\\\\app\\\\opencv\\\\sources\\\\data\\\\haarcascades\\\\haarcascade_frontalface_default.xml\")"
   ]
  },
  {
   "cell_type": "code",
   "execution_count": 6,
   "metadata": {},
   "outputs": [],
   "source": [
    "# To detect the face using webcam by a video.\n",
    "cap = cv2.VideoCapture(0)"
   ]
  },
  {
   "cell_type": "code",
   "execution_count": 7,
   "metadata": {},
   "outputs": [],
   "source": [
    "# path where u want store the data set\n",
    "path = \"C:\\\\Users\\\\Yashaswini Reddy\\\\Documents\\\\app\\\\\""
   ]
  },
  {
   "cell_type": "code",
   "execution_count": 8,
   "metadata": {},
   "outputs": [
    {
     "name": "stdout",
     "output_type": "stream",
     "text": [
      "enter user name:shiva priya\n"
     ]
    }
   ],
   "source": [
    "# To enter username of the person in the video.\n",
    "id = input('enter user name:')"
   ]
  },
  {
   "cell_type": "code",
   "execution_count": 9,
   "metadata": {},
   "outputs": [
    {
     "name": "stdout",
     "output_type": "stream",
     "text": [
      "Directory  C:\\Users\\Yashaswini Reddy\\Documents\\app\\shivapriya  Created \n",
      "Directory  C:\\Users\\Yashaswini Reddy\\Documents\\app\\shivapriya  Created \n"
     ]
    }
   ],
   "source": [
    "try:\n",
    "    # Create target Directory\n",
    "    os.mkdir(path+str(id))\n",
    "    print(\"Directory \", path+str(id),  \" Created \")\n",
    "    print(\"Directory \", path+str(id),  \" Created \")\n",
    "except FileExistsError:\n",
    "    print(\"Directory \", path+str(id),  \" already exists\")\n",
    "sampleN = 0\n",
    "while 1:\n",
    "    ret, img = cap.read()\n",
    "    frame = img.copy()\n",
    "    gray = cv2.cvtColor(frame, cv2.COLOR_BGR2GRAY)\n",
    "    faces = face_cascade.detectMultiScale(gray, 1.3, 5)\n",
    "    \n",
    "    \n",
    "    for (x, y, w, h) in faces:\n",
    "        sampleN = sampleN+1\n",
    "        cv2.imwrite(path+str(id) + \"\\\\\" + str(sampleN) +\n",
    "                    \".jpg\", gray[y:y+h, x:x+w])\n",
    "        cv2.rectangle(img, (x, y), (x+w, y+h), (255, 0, 0), 2)\n",
    "        cv2.waitKey(100)\n",
    "    cv2.imshow('img', img)\n",
    "    cv2.waitKey(1)\n",
    "    if sampleN > 40:\n",
    "        break\n",
    "cap.release()\n",
    "cv2.destroyAllWindows()"
   ]
  }
 ],
 "metadata": {
  "kernelspec": {
   "display_name": "Python 3",
   "language": "python",
   "name": "python3"
  },
  "language_info": {
   "codemirror_mode": {
    "name": "ipython",
    "version": 3
   },
   "file_extension": ".py",
   "mimetype": "text/x-python",
   "name": "python",
   "nbconvert_exporter": "python",
   "pygments_lexer": "ipython3",
   "version": "3.7.3"
  }
 },
 "nbformat": 4,
 "nbformat_minor": 2
}
