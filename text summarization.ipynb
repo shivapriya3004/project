{
 "cells": [
  {
   "cell_type": "code",
   "execution_count": 1,
   "metadata": {},
   "outputs": [],
   "source": [
    "#pip install numpy"
   ]
  },
  {
   "cell_type": "code",
   "execution_count": 2,
   "metadata": {},
   "outputs": [],
   "source": [
    "#pip install scipy"
   ]
  },
  {
   "cell_type": "code",
   "execution_count": 3,
   "metadata": {},
   "outputs": [],
   "source": [
    "#pip install gensim"
   ]
  },
  {
   "cell_type": "code",
   "execution_count": 4,
   "metadata": {},
   "outputs": [],
   "source": [
    "#pip install beautifulsoup4"
   ]
  },
  {
   "cell_type": "code",
   "execution_count": 5,
   "metadata": {},
   "outputs": [],
   "source": [
    "#pip install nltk\n",
    "import nltk\n",
    "#nltk.download('stopwords')"
   ]
  },
  {
   "cell_type": "code",
   "execution_count": 6,
   "metadata": {},
   "outputs": [],
   "source": [
    "#pip install lxml"
   ]
  },
  {
   "cell_type": "code",
   "execution_count": 51,
   "metadata": {},
   "outputs": [],
   "source": [
    "import bs4 as bs  \n",
    "import urllib.request  \n",
    "import re\n",
    "\n",
    "scraped_data = urllib.request.urlopen('https://en.wikipedia.org/wiki/Solar_mass')  \n",
    "article = scraped_data.read()\n",
    "\n",
    "parsed_article = bs.BeautifulSoup(article,'lxml')\n",
    "\n",
    "paragraphs = parsed_article.find_all('p')\n",
    "\n",
    "article_text = \"\"\n",
    "\n",
    "for p in paragraphs:  \n",
    "    article_text += p.text"
   ]
  },
  {
   "cell_type": "markdown",
   "metadata": {},
   "source": [
    "# Preprocessing"
   ]
  },
  {
   "cell_type": "code",
   "execution_count": 52,
   "metadata": {},
   "outputs": [],
   "source": [
    "# Removing Square Brackets and Extra Spaces\n",
    "article_text = re.sub(r'\\[[0-9]*\\]', ' ', article_text)  \n",
    "article_text = re.sub(r'\\s+', ' ', article_text) "
   ]
  },
  {
   "cell_type": "code",
   "execution_count": 53,
   "metadata": {},
   "outputs": [
    {
     "data": {
      "text/plain": [
       "\"The solar mass (M☉) is a standard unit of mass in astronomy, equal to approximately 2×1030 kg. It is used to indicate the masses of other stars, as well as clusters, nebulae, and galaxies. It is equal to the mass of the Sun (denoted by the solar symbol ⊙︎). This equates to about two nonillion (two quintillion in the long scale) kilograms: The above mass is about 332946 times the mass of Earth (M⊕), or 1047 times the mass of Jupiter (MJ). Because Earth follows an elliptical orbit around the Sun, the solar mass can be computed from the equation for the orbital period of a small body orbiting a central mass. Based upon the length of the year, the distance from Earth to the Sun (an astronomical unit or AU), and the gravitational constant (G), the mass of the Sun is given by: The value of G is difficult to measure and is only known with limited accuracy in SI units (see Cavendish experiment). The value of G times the mass of an object, called the standard gravitational parameter, is known for the Sun and several planets to much higher accuracy than G alone. As a result, the solar mass is used as the standard mass in the astronomical system of units. The value of the gravitational constant was first derived from measurements that were made by Henry Cavendish in 1798 with a torsion balance. The value he obtained differs by only 1% from the modern value. The diurnal parallax of the Sun was accurately measured during the transits of Venus in 1761 and 1769, yielding a value of 9″ (9 arcseconds, compared to the present 1976 value of 8.794148″). From the value of the diurnal parallax, one can determine the distance to the Sun from the geometry of Earth. The first person to estimate the mass of the Sun was Isaac Newton. In his work Principia (1687), he estimated that the ratio of the mass of Earth to the Sun was about 1/28 700. Later he determined that his value was based upon a faulty value for the solar parallax, which he had used to estimate the distance to the Sun (1 AU). He corrected his estimated ratio to 1/169 282 in the third edition of the Principia. The current value for the solar parallax is smaller still, yielding an estimated mass ratio of 1/332 946. As a unit of measurement, the solar mass came into use before the AU and the gravitational constant were precisely measured. This is because the relative mass of another planet in the Solar System or the combined mass of two binary stars can be calculated in units of Solar mass directly from the orbital radius and orbital period of the planet or stars using Kepler's third law, provided that orbital radius is measured in astronomical units and orbital period is measured in years. The mass of the Sun has been decreasing since the time it formed. This occurs through two processes in nearly equal amounts. First, in the Sun's core, hydrogen is converted into helium through nuclear fusion, in particular the p–p chain, and this reaction converts some mass into energy in the form of gamma ray photons. Most of this energy eventually radiates away from the Sun. Second, high-energy protons and electrons in the atmosphere of the Sun are ejected directly into outer space as the solar wind and coronal mass ejections. The original mass of the Sun at the time it reached the main sequence remains uncertain. The early Sun had much higher mass-loss rates than at present, and it may have lost anywhere from 1–7% of its natal mass over the course of its main-sequence lifetime. The Sun gains a very small amount of mass through the impact of asteroids and comets. However, as the Sun already contains 99.86% of the Solar System's total mass, these impacts cannot offset the mass lost by radiation and ejection. One solar mass, M☉, can be converted to related units: It is also frequently useful in general relativity to express mass in units of length or time. The solar mass parameter (G·M☉), as listed by the IAU Division I Working Group, has the following estimates: \""
      ]
     },
     "execution_count": 53,
     "metadata": {},
     "output_type": "execute_result"
    }
   ],
   "source": [
    "article_text"
   ]
  },
  {
   "cell_type": "code",
   "execution_count": 54,
   "metadata": {},
   "outputs": [],
   "source": [
    "# Removing special characters and digits\n",
    "formatted_article_text = re.sub('[^a-zA-Z]', ' ', article_text )  \n",
    "formatted_article_text = re.sub(r'\\s+', ' ', formatted_article_text)  "
   ]
  },
  {
   "cell_type": "code",
   "execution_count": 55,
   "metadata": {},
   "outputs": [
    {
     "data": {
      "text/plain": [
       "'The solar mass M is a standard unit of mass in astronomy equal to approximately kg It is used to indicate the masses of other stars as well as clusters nebulae and galaxies It is equal to the mass of the Sun denoted by the solar symbol This equates to about two nonillion two quintillion in the long scale kilograms The above mass is about times the mass of Earth M or times the mass of Jupiter MJ Because Earth follows an elliptical orbit around the Sun the solar mass can be computed from the equation for the orbital period of a small body orbiting a central mass Based upon the length of the year the distance from Earth to the Sun an astronomical unit or AU and the gravitational constant G the mass of the Sun is given by The value of G is difficult to measure and is only known with limited accuracy in SI units see Cavendish experiment The value of G times the mass of an object called the standard gravitational parameter is known for the Sun and several planets to much higher accuracy than G alone As a result the solar mass is used as the standard mass in the astronomical system of units The value of the gravitational constant was first derived from measurements that were made by Henry Cavendish in with a torsion balance The value he obtained differs by only from the modern value The diurnal parallax of the Sun was accurately measured during the transits of Venus in and yielding a value of arcseconds compared to the present value of From the value of the diurnal parallax one can determine the distance to the Sun from the geometry of Earth The first person to estimate the mass of the Sun was Isaac Newton In his work Principia he estimated that the ratio of the mass of Earth to the Sun was about Later he determined that his value was based upon a faulty value for the solar parallax which he had used to estimate the distance to the Sun AU He corrected his estimated ratio to in the third edition of the Principia The current value for the solar parallax is smaller still yielding an estimated mass ratio of As a unit of measurement the solar mass came into use before the AU and the gravitational constant were precisely measured This is because the relative mass of another planet in the Solar System or the combined mass of two binary stars can be calculated in units of Solar mass directly from the orbital radius and orbital period of the planet or stars using Kepler s third law provided that orbital radius is measured in astronomical units and orbital period is measured in years The mass of the Sun has been decreasing since the time it formed This occurs through two processes in nearly equal amounts First in the Sun s core hydrogen is converted into helium through nuclear fusion in particular the p p chain and this reaction converts some mass into energy in the form of gamma ray photons Most of this energy eventually radiates away from the Sun Second high energy protons and electrons in the atmosphere of the Sun are ejected directly into outer space as the solar wind and coronal mass ejections The original mass of the Sun at the time it reached the main sequence remains uncertain The early Sun had much higher mass loss rates than at present and it may have lost anywhere from of its natal mass over the course of its main sequence lifetime The Sun gains a very small amount of mass through the impact of asteroids and comets However as the Sun already contains of the Solar System s total mass these impacts cannot offset the mass lost by radiation and ejection One solar mass M can be converted to related units It is also frequently useful in general relativity to express mass in units of length or time The solar mass parameter G M as listed by the IAU Division I Working Group has the following estimates '"
      ]
     },
     "execution_count": 55,
     "metadata": {},
     "output_type": "execute_result"
    }
   ],
   "source": [
    "formatted_article_text\n"
   ]
  },
  {
   "cell_type": "markdown",
   "metadata": {},
   "source": [
    "# converting text to sentences"
   ]
  },
  {
   "cell_type": "code",
   "execution_count": 56,
   "metadata": {},
   "outputs": [],
   "source": [
    "sentence_list = nltk.sent_tokenize(article_text)  "
   ]
  },
  {
   "cell_type": "markdown",
   "metadata": {},
   "source": [
    "# Finding Weighted Frequency of Occurrence"
   ]
  },
  {
   "cell_type": "code",
   "execution_count": 57,
   "metadata": {},
   "outputs": [],
   "source": [
    "stopwords = nltk.corpus.stopwords.words('english')\n",
    "\n",
    "word_frequencies = {}  \n",
    "for word in nltk.word_tokenize(formatted_article_text):  \n",
    "    if word not in stopwords:\n",
    "        if word not in word_frequencies.keys():\n",
    "            word_frequencies[word] = 1\n",
    "        else:\n",
    "            word_frequencies[word] += 1"
   ]
  },
  {
   "cell_type": "code",
   "execution_count": 58,
   "metadata": {},
   "outputs": [],
   "source": [
    "maximum_frequncy = max(word_frequencies.values())\n",
    "\n",
    "for word in word_frequencies.keys():  \n",
    "    word_frequencies[word] = (word_frequencies[word]/maximum_frequncy)"
   ]
  },
  {
   "cell_type": "code",
   "execution_count": 59,
   "metadata": {},
   "outputs": [
    {
     "data": {
      "text/plain": [
       "31"
      ]
     },
     "execution_count": 59,
     "metadata": {},
     "output_type": "execute_result"
    }
   ],
   "source": [
    "maximum_frequncy"
   ]
  },
  {
   "cell_type": "code",
   "execution_count": 60,
   "metadata": {},
   "outputs": [
    {
     "data": {
      "text/plain": [
       "{'The': 0.45161290322580644,\n",
       " 'solar': 0.3225806451612903,\n",
       " 'mass': 1.0,\n",
       " 'M': 0.12903225806451613,\n",
       " 'standard': 0.0967741935483871,\n",
       " 'unit': 0.0967741935483871,\n",
       " 'astronomy': 0.03225806451612903,\n",
       " 'equal': 0.0967741935483871,\n",
       " 'approximately': 0.03225806451612903,\n",
       " 'kg': 0.03225806451612903,\n",
       " 'It': 0.0967741935483871,\n",
       " 'used': 0.0967741935483871,\n",
       " 'indicate': 0.03225806451612903,\n",
       " 'masses': 0.03225806451612903,\n",
       " 'stars': 0.0967741935483871,\n",
       " 'well': 0.03225806451612903,\n",
       " 'clusters': 0.03225806451612903,\n",
       " 'nebulae': 0.03225806451612903,\n",
       " 'galaxies': 0.03225806451612903,\n",
       " 'Sun': 0.5806451612903226,\n",
       " 'denoted': 0.03225806451612903,\n",
       " 'symbol': 0.03225806451612903,\n",
       " 'This': 0.0967741935483871,\n",
       " 'equates': 0.03225806451612903,\n",
       " 'two': 0.12903225806451613,\n",
       " 'nonillion': 0.03225806451612903,\n",
       " 'quintillion': 0.03225806451612903,\n",
       " 'long': 0.03225806451612903,\n",
       " 'scale': 0.03225806451612903,\n",
       " 'kilograms': 0.03225806451612903,\n",
       " 'times': 0.0967741935483871,\n",
       " 'Earth': 0.16129032258064516,\n",
       " 'Jupiter': 0.03225806451612903,\n",
       " 'MJ': 0.03225806451612903,\n",
       " 'Because': 0.03225806451612903,\n",
       " 'follows': 0.03225806451612903,\n",
       " 'elliptical': 0.03225806451612903,\n",
       " 'orbit': 0.03225806451612903,\n",
       " 'around': 0.03225806451612903,\n",
       " 'computed': 0.03225806451612903,\n",
       " 'equation': 0.03225806451612903,\n",
       " 'orbital': 0.16129032258064516,\n",
       " 'period': 0.0967741935483871,\n",
       " 'small': 0.06451612903225806,\n",
       " 'body': 0.03225806451612903,\n",
       " 'orbiting': 0.03225806451612903,\n",
       " 'central': 0.03225806451612903,\n",
       " 'Based': 0.03225806451612903,\n",
       " 'upon': 0.06451612903225806,\n",
       " 'length': 0.06451612903225806,\n",
       " 'year': 0.03225806451612903,\n",
       " 'distance': 0.0967741935483871,\n",
       " 'astronomical': 0.0967741935483871,\n",
       " 'AU': 0.0967741935483871,\n",
       " 'gravitational': 0.12903225806451613,\n",
       " 'constant': 0.0967741935483871,\n",
       " 'G': 0.16129032258064516,\n",
       " 'given': 0.03225806451612903,\n",
       " 'value': 0.3548387096774194,\n",
       " 'difficult': 0.03225806451612903,\n",
       " 'measure': 0.03225806451612903,\n",
       " 'known': 0.06451612903225806,\n",
       " 'limited': 0.03225806451612903,\n",
       " 'accuracy': 0.06451612903225806,\n",
       " 'SI': 0.03225806451612903,\n",
       " 'units': 0.1935483870967742,\n",
       " 'see': 0.03225806451612903,\n",
       " 'Cavendish': 0.06451612903225806,\n",
       " 'experiment': 0.03225806451612903,\n",
       " 'object': 0.03225806451612903,\n",
       " 'called': 0.03225806451612903,\n",
       " 'parameter': 0.06451612903225806,\n",
       " 'several': 0.03225806451612903,\n",
       " 'planets': 0.03225806451612903,\n",
       " 'much': 0.06451612903225806,\n",
       " 'higher': 0.06451612903225806,\n",
       " 'alone': 0.03225806451612903,\n",
       " 'As': 0.06451612903225806,\n",
       " 'result': 0.03225806451612903,\n",
       " 'system': 0.03225806451612903,\n",
       " 'first': 0.06451612903225806,\n",
       " 'derived': 0.03225806451612903,\n",
       " 'measurements': 0.03225806451612903,\n",
       " 'made': 0.03225806451612903,\n",
       " 'Henry': 0.03225806451612903,\n",
       " 'torsion': 0.03225806451612903,\n",
       " 'balance': 0.03225806451612903,\n",
       " 'obtained': 0.03225806451612903,\n",
       " 'differs': 0.03225806451612903,\n",
       " 'modern': 0.03225806451612903,\n",
       " 'diurnal': 0.06451612903225806,\n",
       " 'parallax': 0.12903225806451613,\n",
       " 'accurately': 0.03225806451612903,\n",
       " 'measured': 0.12903225806451613,\n",
       " 'transits': 0.03225806451612903,\n",
       " 'Venus': 0.03225806451612903,\n",
       " 'yielding': 0.06451612903225806,\n",
       " 'arcseconds': 0.03225806451612903,\n",
       " 'compared': 0.03225806451612903,\n",
       " 'present': 0.06451612903225806,\n",
       " 'From': 0.03225806451612903,\n",
       " 'one': 0.03225806451612903,\n",
       " 'determine': 0.03225806451612903,\n",
       " 'geometry': 0.03225806451612903,\n",
       " 'person': 0.03225806451612903,\n",
       " 'estimate': 0.06451612903225806,\n",
       " 'Isaac': 0.03225806451612903,\n",
       " 'Newton': 0.03225806451612903,\n",
       " 'In': 0.03225806451612903,\n",
       " 'work': 0.03225806451612903,\n",
       " 'Principia': 0.06451612903225806,\n",
       " 'estimated': 0.0967741935483871,\n",
       " 'ratio': 0.0967741935483871,\n",
       " 'Later': 0.03225806451612903,\n",
       " 'determined': 0.03225806451612903,\n",
       " 'based': 0.03225806451612903,\n",
       " 'faulty': 0.03225806451612903,\n",
       " 'He': 0.03225806451612903,\n",
       " 'corrected': 0.03225806451612903,\n",
       " 'third': 0.06451612903225806,\n",
       " 'edition': 0.03225806451612903,\n",
       " 'current': 0.03225806451612903,\n",
       " 'smaller': 0.03225806451612903,\n",
       " 'still': 0.03225806451612903,\n",
       " 'measurement': 0.03225806451612903,\n",
       " 'came': 0.03225806451612903,\n",
       " 'use': 0.03225806451612903,\n",
       " 'precisely': 0.03225806451612903,\n",
       " 'relative': 0.03225806451612903,\n",
       " 'another': 0.03225806451612903,\n",
       " 'planet': 0.06451612903225806,\n",
       " 'Solar': 0.0967741935483871,\n",
       " 'System': 0.06451612903225806,\n",
       " 'combined': 0.03225806451612903,\n",
       " 'binary': 0.03225806451612903,\n",
       " 'calculated': 0.03225806451612903,\n",
       " 'directly': 0.06451612903225806,\n",
       " 'radius': 0.06451612903225806,\n",
       " 'using': 0.03225806451612903,\n",
       " 'Kepler': 0.03225806451612903,\n",
       " 'law': 0.03225806451612903,\n",
       " 'provided': 0.03225806451612903,\n",
       " 'years': 0.03225806451612903,\n",
       " 'decreasing': 0.03225806451612903,\n",
       " 'since': 0.03225806451612903,\n",
       " 'time': 0.0967741935483871,\n",
       " 'formed': 0.03225806451612903,\n",
       " 'occurs': 0.03225806451612903,\n",
       " 'processes': 0.03225806451612903,\n",
       " 'nearly': 0.03225806451612903,\n",
       " 'amounts': 0.03225806451612903,\n",
       " 'First': 0.03225806451612903,\n",
       " 'core': 0.03225806451612903,\n",
       " 'hydrogen': 0.03225806451612903,\n",
       " 'converted': 0.06451612903225806,\n",
       " 'helium': 0.03225806451612903,\n",
       " 'nuclear': 0.03225806451612903,\n",
       " 'fusion': 0.03225806451612903,\n",
       " 'particular': 0.03225806451612903,\n",
       " 'p': 0.06451612903225806,\n",
       " 'chain': 0.03225806451612903,\n",
       " 'reaction': 0.03225806451612903,\n",
       " 'converts': 0.03225806451612903,\n",
       " 'energy': 0.0967741935483871,\n",
       " 'form': 0.03225806451612903,\n",
       " 'gamma': 0.03225806451612903,\n",
       " 'ray': 0.03225806451612903,\n",
       " 'photons': 0.03225806451612903,\n",
       " 'Most': 0.03225806451612903,\n",
       " 'eventually': 0.03225806451612903,\n",
       " 'radiates': 0.03225806451612903,\n",
       " 'away': 0.03225806451612903,\n",
       " 'Second': 0.03225806451612903,\n",
       " 'high': 0.03225806451612903,\n",
       " 'protons': 0.03225806451612903,\n",
       " 'electrons': 0.03225806451612903,\n",
       " 'atmosphere': 0.03225806451612903,\n",
       " 'ejected': 0.03225806451612903,\n",
       " 'outer': 0.03225806451612903,\n",
       " 'space': 0.03225806451612903,\n",
       " 'wind': 0.03225806451612903,\n",
       " 'coronal': 0.03225806451612903,\n",
       " 'ejections': 0.03225806451612903,\n",
       " 'original': 0.03225806451612903,\n",
       " 'reached': 0.03225806451612903,\n",
       " 'main': 0.06451612903225806,\n",
       " 'sequence': 0.06451612903225806,\n",
       " 'remains': 0.03225806451612903,\n",
       " 'uncertain': 0.03225806451612903,\n",
       " 'early': 0.03225806451612903,\n",
       " 'loss': 0.03225806451612903,\n",
       " 'rates': 0.03225806451612903,\n",
       " 'may': 0.03225806451612903,\n",
       " 'lost': 0.06451612903225806,\n",
       " 'anywhere': 0.03225806451612903,\n",
       " 'natal': 0.03225806451612903,\n",
       " 'course': 0.03225806451612903,\n",
       " 'lifetime': 0.03225806451612903,\n",
       " 'gains': 0.03225806451612903,\n",
       " 'amount': 0.03225806451612903,\n",
       " 'impact': 0.03225806451612903,\n",
       " 'asteroids': 0.03225806451612903,\n",
       " 'comets': 0.03225806451612903,\n",
       " 'However': 0.03225806451612903,\n",
       " 'already': 0.03225806451612903,\n",
       " 'contains': 0.03225806451612903,\n",
       " 'total': 0.03225806451612903,\n",
       " 'impacts': 0.03225806451612903,\n",
       " 'offset': 0.03225806451612903,\n",
       " 'radiation': 0.03225806451612903,\n",
       " 'ejection': 0.03225806451612903,\n",
       " 'One': 0.03225806451612903,\n",
       " 'related': 0.03225806451612903,\n",
       " 'also': 0.03225806451612903,\n",
       " 'frequently': 0.03225806451612903,\n",
       " 'useful': 0.03225806451612903,\n",
       " 'general': 0.03225806451612903,\n",
       " 'relativity': 0.03225806451612903,\n",
       " 'express': 0.03225806451612903,\n",
       " 'listed': 0.03225806451612903,\n",
       " 'IAU': 0.03225806451612903,\n",
       " 'Division': 0.03225806451612903,\n",
       " 'I': 0.03225806451612903,\n",
       " 'Working': 0.03225806451612903,\n",
       " 'Group': 0.03225806451612903,\n",
       " 'following': 0.03225806451612903,\n",
       " 'estimates': 0.03225806451612903}"
      ]
     },
     "execution_count": 60,
     "metadata": {},
     "output_type": "execute_result"
    }
   ],
   "source": [
    "word_frequencies"
   ]
  },
  {
   "cell_type": "code",
   "execution_count": 61,
   "metadata": {},
   "outputs": [],
   "source": [
    "sentence_scores = {}  \n",
    "for sent in sentence_list:  \n",
    "    for word in nltk.word_tokenize(sent.lower()):\n",
    "        if word in word_frequencies.keys():\n",
    "            if len(sent.split(' ')) < 30:\n",
    "                if sent not in sentence_scores.keys():\n",
    "                    sentence_scores[sent] = word_frequencies[word]\n",
    "                else:\n",
    "                    sentence_scores[sent] += word_frequencies[word]"
   ]
  },
  {
   "cell_type": "code",
   "execution_count": 62,
   "metadata": {},
   "outputs": [
    {
     "data": {
      "text/plain": [
       "{'The solar mass (M☉) is a standard unit of mass in astronomy, equal to approximately 2×1030 kg.': 2.709677419354838,\n",
       " 'It is used to indicate the masses of other stars, as well as clusters, nebulae, and galaxies.': 0.38709677419354827,\n",
       " 'It is equal to the mass of the Sun (denoted by the solar symbol ⊙︎).': 1.4838709677419353,\n",
       " 'As a result, the solar mass is used as the standard mass in the astronomical system of units.': 2.8709677419354835,\n",
       " 'The value of the gravitational constant was first derived from measurements that were made by Henry Cavendish in 1798 with a torsion balance.': 0.8064516129032258,\n",
       " 'The value he obtained differs by only 1% from the modern value.': 0.8064516129032258,\n",
       " 'From the value of the diurnal parallax, one can determine the distance to the Sun from the geometry of Earth.': 0.7419354838709676,\n",
       " 'The first person to estimate the mass of the Sun was Isaac Newton.': 1.1612903225806452,\n",
       " 'In his work Principia (1687), he estimated that the ratio of the mass of Earth to the Sun was about 1/28 700.': 1.2258064516129032,\n",
       " 'Later he determined that his value was based upon a faulty value for the solar parallax, which he had used to estimate the distance to the Sun (1 AU).': 1.5806451612903225,\n",
       " 'He corrected his estimated ratio to 1/169 282 in the third edition of the Principia.': 0.32258064516129026,\n",
       " 'The current value for the solar parallax is smaller still, yielding an estimated mass ratio of 1/332 946.': 2.161290322580645,\n",
       " 'As a unit of measurement, the solar mass came into use before the AU and the gravitational constant were precisely measured.': 1.9032258064516125,\n",
       " 'The mass of the Sun has been decreasing since the time it formed.': 1.193548387096774,\n",
       " 'This occurs through two processes in nearly equal amounts.': 0.3548387096774194,\n",
       " 'Most of this energy eventually radiates away from the Sun.': 0.1935483870967742,\n",
       " 'Second, high-energy protons and electrons in the atmosphere of the Sun are ejected directly into outer space as the solar wind and coronal mass ejections.': 1.6774193548387095,\n",
       " 'The original mass of the Sun at the time it reached the main sequence remains uncertain.': 1.354838709677419,\n",
       " 'The Sun gains a very small amount of mass through the impact of asteroids and comets.': 1.225806451612903,\n",
       " \"However, as the Sun already contains 99.86% of the Solar System's total mass, these impacts cannot offset the mass lost by radiation and ejection.\": 2.6451612903225805,\n",
       " 'One solar mass, M☉, can be converted to related units: It is also frequently useful in general relativity to express mass in units of length or time.': 3.193548387096774,\n",
       " 'The solar mass parameter (G·M☉), as listed by the IAU Division I Working Group, has the following estimates:': 1.4838709677419353}"
      ]
     },
     "execution_count": 62,
     "metadata": {},
     "output_type": "execute_result"
    }
   ],
   "source": [
    "sentence_scores"
   ]
  },
  {
   "cell_type": "markdown",
   "metadata": {},
   "source": [
    "# SUMMARY"
   ]
  },
  {
   "cell_type": "code",
   "execution_count": 63,
   "metadata": {},
   "outputs": [
    {
     "name": "stdout",
     "output_type": "stream",
     "text": [
      "One solar mass, M☉, can be converted to related units: It is also frequently useful in general relativity to express mass in units of length or time. As a result, the solar mass is used as the standard mass in the astronomical system of units. The solar mass (M☉) is a standard unit of mass in astronomy, equal to approximately 2×1030 kg. However, as the Sun already contains 99.86% of the Solar System's total mass, these impacts cannot offset the mass lost by radiation and ejection. The current value for the solar parallax is smaller still, yielding an estimated mass ratio of 1/332 946. As a unit of measurement, the solar mass came into use before the AU and the gravitational constant were precisely measured. Second, high-energy protons and electrons in the atmosphere of the Sun are ejected directly into outer space as the solar wind and coronal mass ejections.\n"
     ]
    }
   ],
   "source": [
    "import heapq  \n",
    "summary_sentences = heapq.nlargest(7, sentence_scores, key=sentence_scores.get)\n",
    "\n",
    "summary = ' '.join(summary_sentences)  \n",
    "print(summary)  "
   ]
  },
  {
   "cell_type": "code",
   "execution_count": null,
   "metadata": {},
   "outputs": [],
   "source": []
  }
 ],
 "metadata": {
  "kernelspec": {
   "display_name": "Python 3",
   "language": "python",
   "name": "python3"
  },
  "language_info": {
   "codemirror_mode": {
    "name": "ipython",
    "version": 3
   },
   "file_extension": ".py",
   "mimetype": "text/x-python",
   "name": "python",
   "nbconvert_exporter": "python",
   "pygments_lexer": "ipython3",
   "version": "3.7.3"
  }
 },
 "nbformat": 4,
 "nbformat_minor": 2
}
